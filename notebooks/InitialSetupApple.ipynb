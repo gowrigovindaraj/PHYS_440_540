{
 "cells": [
  {
   "cell_type": "markdown",
   "metadata": {
    "slideshow": {
     "slide_type": "slide"
    },
    "tags": []
   },
   "source": [
    "# Gettings Started\n",
    "\n",
    "G. Richards\n",
    "(2016, 2018, 2020, 2022, 2024)\n",
    "This notebook contains most everything that we need to get started.  It draws heavily from classes taught by Zeljko Ivezic and Mario Juric, Andy Connolly (http://connolly.github.io/introAstroML/) and Karen Leighly ([seminar.ouml.org](http://seminar.ouml.org)).  With updates to my own class from [Stephen Taylor's class at Vanderbilt](https://github.com/VanderbiltAstronomy/astr_8070_s24).\n",
    "\n",
    "This notebook is specifically for those with **Apple** laptops.  There will be a slightly different version for those using Windows."
   ]
  },
  {
   "cell_type": "markdown",
   "metadata": {
    "slideshow": {
     "slide_type": "slide"
    },
    "tags": []
   },
   "source": [
    "## Contents\n",
    "\n",
    "* 1. [Terminal - iTerm2](#one)\n",
    "* 2. [Terminal Framework - Oh-My-Zsh](#two)\n",
    "* 3. [Package Manager - Homebrew](#three) \n",
    "* 4. [Version Control - Git](#four)\n",
    "* 5. [Python Package Installer - Mamba](#five)\n",
    "* 6. [Integrated Development Environment - JupyterLab](#six)\n",
    "* 7. [Data Science Software - TensorFlow + PyTorch](#seven)\n",
    "* 8. [Review of Python, Numpy, Scipy, Matplotlib, and Pandas](#eight)\n",
    "* 9. [Practice with Git](#nine)\n",
    "* 10. [Class Participation](#ten)"
   ]
  },
  {
   "cell_type": "markdown",
   "metadata": {
    "slideshow": {
     "slide_type": "slide"
    },
    "tags": []
   },
   "source": [
    "## 1. Terminal - iTerm2  <a class=\"anchor\" id=\"one\"></a>\n",
    "\n",
    "### What is a Terminal?\n",
    "\n",
    "A terminal, also known as a command line interface (CLI), is a text-based interface used to interact with your computer. Unlike graphical user interfaces (GUIs) that use windows, buttons, and icons, a terminal allows users to execute commands by typing them out and receiving text feedback. This interface is powerful for running programs, managing system tasks, and accessing a direct line to the operating system's underlying functionalities."
   ]
  },
  {
   "cell_type": "markdown",
   "metadata": {
    "slideshow": {
     "slide_type": "slide"
    },
    "tags": []
   },
   "source": [
    "### Why iTerm2?\n",
    "\n",
    "[iTerm2](https://iterm2.com/) is a replacement for the default Terminal app on macOS. It supports macOS 10.14 and newer.\n",
    "\n",
    "#### Key Features of iTerm2\n",
    "\n",
    "- **Split Panes**: You can customize your workspace by splitting a terminal window into multiple panes, both vertically and horizontally. \n",
    "\n",
    "- **Hotkey Window**: Set up a hotkey to quickly bring iTerm2 to the front, regardless of which application you're using.\n",
    "\n",
    "- **Search**: iTerm2 offers a search feature with highlighting of matches, including regular expression compatibility.\n",
    "\n",
    "- **Autocomplete**: iTerm2 can suggest completions for words previously typed in your terminal, accessible with shortcut (`Cmd-;`)"
   ]
  },
  {
   "cell_type": "markdown",
   "metadata": {
    "slideshow": {
     "slide_type": "slide"
    },
    "tags": []
   },
   "source": [
    "#### Installing iTerm2\n",
    "\n",
    "To install iTerm2 (again, for Apple users), follow these steps:\n",
    "\n",
    "1. Go to the [iTerm2 downloads page](https://iterm2.com/downloads.html) .\n",
    "2. Download the stable release appropriate for your operating system version.\n"
   ]
  },
  {
   "cell_type": "markdown",
   "metadata": {
    "slideshow": {
     "slide_type": "slide"
    },
    "tags": []
   },
   "source": [
    "## 2. Terminal Framework - Oh-My-Zsh  <a class=\"anchor\" id=\"two\"></a>\n",
    "\n",
    "### What is Oh My Zsh?\n",
    "\n",
    "Oh My Zsh is an open-source, community-driven framework for managing your Zsh (Z shell) configuration. It's designed to be a drop-in replacement for your existing shell configuration, enhancing it with the ability to use hundreds of plugins and themes, which can increase productivity and ease of use."
   ]
  },
  {
   "cell_type": "markdown",
   "metadata": {
    "slideshow": {
     "slide_type": "slide"
    },
    "tags": []
   },
   "source": [
    "#### Why Use Oh My Zsh?\n",
    "\n",
    "- **Plugin System**: Oh My Zsh integrates hundreds of plugins that can aid in daily tasks like Git commands, npm, Docker, theme customization, and more.\n",
    "- **Themes**: With the various themes available, you can customize the look of your command prompt.\n",
    "- **Community Driven**: It is open-source and community-driven."
   ]
  },
  {
   "cell_type": "markdown",
   "metadata": {
    "slideshow": {
     "slide_type": "slide"
    },
    "tags": []
   },
   "source": [
    "### Installing Oh My Zsh\n",
    "\n",
    "To install Oh My Zsh, you can use `curl` or `wget`. Here's how to do it:"
   ]
  },
  {
   "cell_type": "markdown",
   "metadata": {
    "slideshow": {
     "slide_type": "slide"
    },
    "tags": []
   },
   "source": [
    "#### Via Curl\n",
    "Run the following command in your terminal:\n",
    "\n",
    "    sh -c \"$(curl -fsSL https://raw.githubusercontent.com/ohmyzsh/ohmyzsh/master/tools/install.sh)\"\n",
    "\n",
    "Or\n",
    "\n",
    "#### Via Wget\n",
    "\n",
    "If you prefer using wget, use this command instead:\n",
    "\n",
    "Run the following command in your terminal:\n",
    "\n",
    "    sh -c \"$(wget https://raw.githubusercontent.com/ohmyzsh/ohmyzsh/master/tools/install.sh -O -)\""
   ]
  },
  {
   "cell_type": "markdown",
   "metadata": {
    "slideshow": {
     "slide_type": "slide"
    },
    "tags": []
   },
   "source": [
    "Both methods will install Oh My Zsh and replace your current shell configuration with a Zsh configuration managed by Oh My Zsh."
   ]
  },
  {
   "cell_type": "markdown",
   "metadata": {
    "slideshow": {
     "slide_type": "slide"
    },
    "tags": []
   },
   "source": [
    "## 3. Package Manager - Homebrew <a class=\"anchor\" id=\"three\"></a>\n",
    "\n",
    "### What is Homebrew?\n",
    "\n",
    "Homebrew is a free and open-source software package management system that simplifies the installation of software on Apple's macOS operating system and Linux. The tagline \"Homebrew installs the stuff you need that Apple didn’t\" sums it up."
   ]
  },
  {
   "cell_type": "markdown",
   "metadata": {
    "slideshow": {
     "slide_type": "slide"
    },
    "tags": []
   },
   "source": [
    "#### Key Features of Homebrew\n",
    "\n",
    "- **Simplifies Installation**: Homebrew makes it easy to install packages with a simple command (`brew install <package>`).\n",
    "- **Isolation**: Homebrew installs packages to their own directory and symlinks their files into `/opt/homebrew` on Apple Silicon.\n",
    "- **Non-Intrusive**: Homebrew won’t install files outside its prefix, ensuring it does not interfere with the system.\n",
    "- **Flexibility**: Built on Git and Ruby, it allows advanced users to modify, update, and manage packages easily."
   ]
  },
  {
   "cell_type": "markdown",
   "metadata": {
    "slideshow": {
     "slide_type": "slide"
    },
    "tags": []
   },
   "source": [
    "#### Why Use Homebrew?\n",
    "\n",
    "Homebrew provides an enormous library of software and tools without the need for manual configurations and setups, making it a must-have tool for developers and data scientists working on macOS and Linux platforms."
   ]
  },
  {
   "cell_type": "markdown",
   "metadata": {
    "slideshow": {
     "slide_type": "slide"
    },
    "tags": []
   },
   "source": [
    "#### Installing Homebrew\n",
    "\n",
    "To install Homebrew, execute the following command in your macOS Terminal or Linux shell prompt:\n",
    "\n",
    "    /bin/bash -c \"$(curl -fsSL https://raw.githubusercontent.com/Homebrew/install/HEAD/install.sh)\""
   ]
  },
  {
   "cell_type": "markdown",
   "metadata": {
    "slideshow": {
     "slide_type": "slide"
    },
    "tags": []
   },
   "source": [
    "## 4. Version Control - Git  <a class=\"anchor\" id=\"four\"></a>\n",
    "\n",
    "### What is Git?\n",
    "\n",
    "Git is a version control system that helps track changes in computer files and coordinates work on those files among multiple people. It is primarily used for source code management in software development, but it can be used to keep track of changes in any set of files. Unlike many older tools like SVN or CVS, Git uses a distributed model, providing each developer a full history of all changes."
   ]
  },
  {
   "cell_type": "markdown",
   "metadata": {
    "slideshow": {
     "slide_type": "slide"
    },
    "tags": []
   },
   "source": [
    "#### Why Use Git?\n",
    "\n",
    "Understanding Git is crucial because it facilitates effective version control and collaboration.\n",
    "\n",
    "- Snapshots: The core idea behind Git's design is to think of data as a series of snapshots of a mini filesystem. While other tools often use delta-based storage, focusing on the differences between files from one version to another, Git stores a snapshot of what all files look like at a given moment. This fundamental difference enables many of Git's most powerful features.\n",
    "\n",
    "- Efficiency: Git’s snapshot-based model allows for quick branching and merging.\n",
    "\n",
    "- Flexibility: With its distributed nature, every user has a full backup of the repository, allowing for work in various workflows, offline activity, and collaboration across teams.\n"
   ]
  },
  {
   "cell_type": "markdown",
   "metadata": {
    "slideshow": {
     "slide_type": "slide"
    },
    "tags": []
   },
   "source": [
    "### Installing Git on macOS\n",
    "\n",
    "Before you start using Git, you need to install it on your computer. Here’s how you can install Git on macOS:"
   ]
  },
  {
   "cell_type": "markdown",
   "metadata": {
    "slideshow": {
     "slide_type": "slide"
    },
    "tags": []
   },
   "source": [
    "#### Using Xcode Command Line Tools\n",
    "\n",
    "Open the Terminal and type:\n",
    "\n",
    "    git --version\n",
    "\n",
    "If Git is not already installed, this command will prompt you to install the Xcode Command Line Tools, which include Git."
   ]
  },
  {
   "cell_type": "markdown",
   "metadata": {
    "slideshow": {
     "slide_type": "slide"
    },
    "tags": []
   },
   "source": [
    "#### Using a Binary Installer\n",
    "\n",
    "If you need a more up-to-date version of Git, you can opt for the binary installer from the Git website. This method ensures you have the latest features and security updates.\n",
    "\n",
    "Visit the Git website to download the macOS installer: [Git for macOS](https://git-scm.com/download/mac).  Once downloaded, run the installer and follow the on-screen instructions."
   ]
  },
  {
   "cell_type": "markdown",
   "metadata": {
    "slideshow": {
     "slide_type": "slide"
    },
    "tags": []
   },
   "source": [
    "### A Place for Git\n",
    "\n",
    "Once Git is installed, make a place where you are going to put the class repository.  Perhaps in a git subdirectory if you think that you might use more repositories later (we might even for this class!).  \n",
    "```\n",
    "$ cd ~\n",
    "$ mkdir git\n",
    "$ cd git\n",
    "```"
   ]
  },
  {
   "cell_type": "markdown",
   "metadata": {
    "slideshow": {
     "slide_type": "slide"
    },
    "tags": []
   },
   "source": [
    "### Forking the class repository\n",
    "\n",
    "- If you don't already have a [GitHub account](https://github.com/), please make one.  If you have one already, go ahead and login.\n",
    "\n",
    "- Now we need to \"fork\" the class repository into your account using this [example](https://docs.github.com/en/pull-requests/collaborating-with-pull-requests/working-with-forks/fork-a-repo#forking-a-repository). \n",
    "\n",
    "- If that works for you, next \"fork\" the [PHYS 440/540 GitHub Repo](https://github.com/gtrichards/PHYS_440_540).\n",
    "\n",
    "Now you have a saved and easily accessible copy of the class repository. "
   ]
  },
  {
   "cell_type": "markdown",
   "metadata": {
    "slideshow": {
     "slide_type": "slide"
    },
    "tags": []
   },
   "source": [
    "### Cloning the class repository\n",
    "\n",
    "Next, we need to \"clone\" (make a local copy of) your forked repository.\n",
    "\n",
    "\n",
    "First move to the `git` folder that you created above:\n",
    "```\n",
    "$ cd git\n",
    "```\n",
    "\n",
    "Then exectute this command (filling in the blank as appropriate):\n",
    "\n",
    "```\n",
    "$ git clone https://github.com/{YOUR_GITHUB_USERNAME}/PHYS_440_540.git\n",
    "```    \n",
    "\n",
    "where `YOUR_GITHUB_USERNAME` is your github username. This will make a subdirectory called `PHYS_440_540` in which you will see a file called `InitialSetupApple.ipynb` (which is the file that you are reading now!).  See below for how to open this (and other notebooks) using [Jupyter](http://jupyter.org/).\n",
    "\n",
    "Before proceeding further, you also need to set the original class repository as the 'upstream', so that you can get the lastest changes before each class. Now do the following\n",
    "\n",
    "```\n",
    "$ cd PHYS_440_550\n",
    "$ git remote add upstream https://github.com/gtrichards/PHYS_440_540.git\n",
    "$ git remote set-url --push upstream DISABLE\n",
    "```\n",
    "\n",
    "**Before each class**, you will want to update this repository so that you get any new files that we have put there for you. Do that with\n",
    "\n",
    "```\n",
    "$ cd ~/git/PHYS_440_540\n",
    "$ git fetch upstream\n",
    "$ git checkout master\n",
    "$ git merge upstream/master\n",
    "```\n",
    "\n",
    "### Tips:\n",
    "1. To avoid unneccesary merging conflicts involving executed jupyter notebooks, try not to excecute/save/commit corresponding class notebooks in the master branch before the actual class. Feel free to do it in a separate [branch](https://git-scm.com/book/en/v2/Git-Branching-Basic-Branching-and-Merging).  If you need help with branches, see [Chapter 4 of DataCamp's Introduction to Git lesson](https://app.datacamp.com/learn/courses/introduction-to-git).  \n",
    "2. If you happened to execute/save any class notebooks ahead of the schedule, you can run the following command can get back to the last commit before syncing your repository with the class repository.  (Move any changes that you want saved to another folder if you don't want to lose your work!)\n",
    "\n",
    "```\n",
    "$ git reset --hard\n",
    "```"
   ]
  },
  {
   "cell_type": "markdown",
   "metadata": {
    "slideshow": {
     "slide_type": "slide"
    },
    "tags": []
   },
   "source": [
    "## 5. Python Package Installer - Mamba  <a class=\"anchor\" id=\"five\"></a>\n",
    "\n"
   ]
  },
  {
   "cell_type": "markdown",
   "metadata": {
    "slideshow": {
     "slide_type": "slide"
    },
    "tags": []
   },
   "source": [
    "### What is Mamba?\n",
    "\n",
    "Mamba is a re-implementation of the conda package manager in C++, designed to be much faster and more responsive. For users familiar with conda, Mamba offers a drop-in replacement that can handle environment and package management more efficiently. It is particularly advantageous in scenarios where conda might take a long time to solve package dependencies."
   ]
  },
  {
   "cell_type": "markdown",
   "metadata": {
    "slideshow": {
     "slide_type": "slide"
    },
    "tags": []
   },
   "source": [
    "#### Why Use Mamba?\n",
    "\n",
    "Mamba's quick dependency resolution saves time and reduces complexity in maintaining various environments.\n",
    "\n",
    "Mamba is cross-platform and works on Windows, OS X, Linux (including ARM64 and PPC64LE), ensuring broad compatibility with various system architectures."
   ]
  },
  {
   "cell_type": "markdown",
   "metadata": {
    "slideshow": {
     "slide_type": "slide"
    },
    "tags": []
   },
   "source": [
    "#### Mamba vs. Conda\n",
    "\n",
    "Mamba utilizes the same commands as conda, so existing conda users will find it familiar. However, the implementation differences mean Mamba can offer significant performance improvements, especially when working with complex dependencies."
   ]
  },
  {
   "cell_type": "markdown",
   "metadata": {
    "slideshow": {
     "slide_type": "slide"
    },
    "tags": []
   },
   "source": [
    "#### What's the difference between Mambaforge and Miniforge?\n",
    "\n",
    "Since August 2023, with the release of Miniforge 23.3.1, Mambaforge and Miniforge have essentially become identical. Both distributions now include mamba thanks to the integration of the `conda-libmamba-solver`. The primary difference lies in the name and default installation path."
   ]
  },
  {
   "cell_type": "markdown",
   "metadata": {
    "slideshow": {
     "slide_type": "slide"
    },
    "tags": []
   },
   "source": [
    "### Mamba Installation\n",
    "\n",
    "#### Fresh Install with Miniforge (Recommended)\n",
    "\n",
    "Miniforge is recommended for new users. It comes with the `conda-forge` channel pre-configured, simplifying package management:\n",
    "\n",
    "1. Miniforge via Homebrew:\n",
    "\n",
    "         brew install miniforge\n",
    "     \n",
    "\n",
    "OR\n",
    "\n",
    "2. Download Miniforge:\n",
    "   - Use the following commands to download and install Miniforge:\n",
    "\n",
    "         curl -L -O \"https://github.com/conda-forge/miniforge/releases/latest/download/Miniforge3-$(uname)-$(uname -m).sh\"\n",
    "         bash Miniforge3-$(uname)-$(uname -m).sh"
   ]
  },
  {
   "cell_type": "markdown",
   "metadata": {
    "slideshow": {
     "slide_type": "slide"
    },
    "tags": []
   },
   "source": [
    "#### Usage\n",
    "\n",
    "- **Unix-like Platforms (Mac OS & Linux)**: If Miniforge is on the system path (which is default on Mac and Linux), you can use the conda and mamba commands from any command prompt. The default channel will be set to `conda-forge`.\n",
    "\n",
    "- To make sure that it is on your path do:\n",
    "\n",
    "        conda init zsh\n"
   ]
  },
  {
   "cell_type": "markdown",
   "metadata": {
    "slideshow": {
     "slide_type": "slide"
    },
    "tags": []
   },
   "source": [
    "### Python\n",
    "\n",
    "Installing Mamba through miniforge will also ensure Python is installed in your system\n",
    "\n",
    "To check your python version:\n",
    "\n",
    "    python --version"
   ]
  },
  {
   "cell_type": "markdown",
   "metadata": {
    "slideshow": {
     "slide_type": "slide"
    },
    "tags": []
   },
   "source": [
    "The course requirements were set up up to ensure that you have at least *some* (extended) experience with Python.  E.g., you might have taken the 113-114-115 series.  If you don't know *any* Python at all, this class may be pretty tough going.  However, many of you might need a refresher.  A good place to start is **Appendix A** (more specifically A3) in the [textbook](https://press.princeton.edu/books/hardcover/9780691198309/statistics-data-mining-and-machine-learning-in-astronomy).  \n",
    "\n",
    "In this course, we will be taking advantage of the very nice tools developed by the folks at [DataCamp](https://www.datacamp.com/).  You will all be given access to DataCamp by virtue of being enrolled in this course.  As a result you will actually have access to their full library for 6 months.  If you need a Python refresher, I suggest that you work through their [Intro to Python for Data Science](https://www.datacamp.com/courses/intro-to-python-for-data-science) and [Intermediate Python for Data Science](https://www.datacamp.com/courses/intermediate-python-for-data-science); indeed you'll do one of these for Homework 1.\n",
    "\n",
    "I would also recommend the [codecademy](https://www.codecademy.com/) course on Python.  It is free and does a good job of walking you through things that you need to learn.\n",
    "\n",
    "You might also be interested in [A Student’s Guide to Python for Physical Modeling](https://press.princeton.edu/books/ebook/9780691270890/a-students-guide-to-python-for-physical-modeling): Chapters 1-3 provide a good introduction to Python before getting into the \"physical modeling\" part.  It encourages the use of **spyder**, which is a matlab-like interactive interface for Python (if you'd prefer that sort of interface).\n",
    "\n",
    "Lastly, from Jake VanderPlas (a contributor to astroML and a co-author of our textbook):\n",
    "\n",
    "- [A Whirlwind Tour of Python](https://www.oreilly.com/library/view/a-whirlwind-tour/9781492037859/)\n",
    "- [Python Data Science Handbook](https://jakevdp.github.io/PythonDataScienceHandbook/index.html)\n",
    "\n",
    "Note that you can access the entire [O'Reilly libarary](http://ezproxy2.library.drexel.edu/login?url=https://www.safaribooksonline.com/library/view/temporary-access/?orpq&email=^u) for free with your Drexel login (not by institution)."
   ]
  },
  {
   "cell_type": "markdown",
   "metadata": {
    "slideshow": {
     "slide_type": "slide"
    },
    "tags": []
   },
   "source": [
    "## 6. Integrated Development Environment - JupyterLab  <a class=\"anchor\" id=\"six\"></a>\n",
    "\n",
    "### Introduction to JupyterLab\n",
    "\n",
    "JupyterLab is an interactive development environment and the next-generation web-based user interface for Project Jupyter. JupyterLab enables you to work with documents and activities such as Jupyter notebooks, text editors, terminals, and custom components in a flexible, integrated, and extensible manner. It is particularly well-suited for data science and scientific computing thanks to its support for multiple languages, in-line display of outputs, and robust tools for visualization."
   ]
  },
  {
   "cell_type": "markdown",
   "metadata": {
    "slideshow": {
     "slide_type": "slide"
    },
    "tags": []
   },
   "source": [
    "#### Key Features of JupyterLab\n",
    "\n",
    "- **Web-based Interface**: JupyterLab provides a web-based interface that allows you to combine code, markdown text, visualizations, and rich media in one.\n",
    "- **Multilingual Support**: It supports multiple programming languages, making it versatile for various types of projects.\n",
    "- **Collaboration and Sharing**: Built-in features support sharing and collaboration, making it easier to work on projects with peers.\n",
    "- **In-line Outputs**: Outputs from code (like visualizations) are displayed right in the notebook, alongside the code that generates them.\n",
    "- **Extensibility**: JupyterLab can be extended with third-party extensions, enhancing its functionality and integrating additional tools."
   ]
  },
  {
   "cell_type": "markdown",
   "metadata": {
    "slideshow": {
     "slide_type": "slide"
    },
    "tags": []
   },
   "source": [
    "### Installing JupyterLab\n",
    "\n",
    "JupyterLab can be installed using Mamba, which provides a faster and more reliable installation process compared to conda. Follow these steps to install JupyterLab:\n",
    "\n",
    "\n",
    "1. Install JupyterLab using Mamba\n",
    "         \n",
    "       mamba install jupyterlab\n",
    "\n",
    "   \n",
    "2. Install Jupyter Notebook using Mamba\n",
    "   \n",
    "       mamba install notebook"
   ]
  },
  {
   "cell_type": "markdown",
   "metadata": {
    "slideshow": {
     "slide_type": "slide"
    },
    "tags": []
   },
   "source": [
    "#### Running JupyterLab\n",
    "\n",
    "Once JupyterLab is installed, you can start it by running the following command in your terminal:\n",
    "\n",
    "    jupyter lab\n",
    "\n",
    "This command will start the JupyterLab server and open JupyterLab in your default web browser. You will see an interface where you can create new notebooks, open existing ones, and access other tools like the terminal and text editor."
   ]
  },
  {
   "cell_type": "markdown",
   "metadata": {
    "slideshow": {
     "slide_type": "slide"
    },
    "tags": []
   },
   "source": [
    "Each lecture will be in the form of a [jupyter notebook](http://jupyter.org/) that you'll download from the github repository before the start of each class.  \n",
    "\n",
    "To start the notebook app, run:\n",
    "\n",
    "     jupyter notebook\n",
    "    \n",
    "This will pop up a web page in your default browser and show the Dashboard where you can navigate to a particular notebook or open a new one.  You can also open a notebook directly with (for example):\n",
    "\n",
    "     jupyter notebook InitialSetup.ipynb &\n",
    "   \n",
    "If you are creating a new notebook, click on 'new' at the top-right of the page and select 'python'.\n",
    "\n",
    "For class, I recommend that you first copy each notebook, appending your name to the file.  That way you aren't editing the original and you'll have a version that you can turn in (for the sake of attendance).  For example,\n",
    "\n",
    "    cp InitialSetup.ipynb InitialSetup_FirstnameLastname.ipynb\n",
    "    \n",
    "And then open that notebook with the command \n",
    "\n",
    "    jupyter notebook InitialSetup_FirstnameLastname.ipynb &"
   ]
  },
  {
   "cell_type": "markdown",
   "metadata": {
    "slideshow": {
     "slide_type": "slide"
    },
    "tags": []
   },
   "source": [
    "### Working with Jupyter Notebooks\n",
    "\n",
    "Notebooks have 2 primary cell types: 'Markdown' and 'Code'.    The Markdown cells are basically just for you to read.  The Code cells are meant to be executed (perhaps after you have filled in some blanks).  \n",
    "\n",
    "To execute a cell in the notebook, type '**shift-return**'. If you see a * in the bracket left of the cell or a 'Busy' in the tab title, it means the command is in the process of running, and you need to wait for it to finish.\n",
    "\n",
    "The notebook is autosaved, so that when you return to a notebook, everything is the same as you left it. If you want to reset it, you can do “revert to checkpoint”.  If you save it yourself, you will create a checkpoint, and the original version will be unavailable.\n",
    "\n",
    "\n",
    "\n",
    "Here are some useful commands to get you started (# followed by text indicates a comment and not what you type)!\n",
    "\n",
    "    In [ ]: ?          # basic help function.  Pops open a sub-frame at the bottom of page.  \n",
    "                         Close with \"x\".\n",
    "    \n",
    "    In [ ]: %quickref  # Pops open a quick reference card\n",
    "    \n",
    "    In [ ]: ! \t       # spawning out to the operating system; \n",
    "                         e.g files=!ls will fill the variable files \n",
    "                         with a list of files in your directory.\n",
    "\n",
    "\n",
    "Jupyter also contains a number of [“magic” commands](https://ipython.org/ipython-doc/dev/interactive/magics.html).\n",
    "Two examples are\n",
    "\n",
    "    In [ ]: %matplotlib inline  # makes plots within the web browser instead of popping up a new window\n",
    "    \n",
    "    In [ ]: %whos               # lists the vectors, etc. that you have defined.\n",
    "\n",
    "Jupyter also has lots of [keyboard shortcuts](https://ipython.org/ipython-doc/1/interactive/notebook.html#keyboard-shortcuts) – the main one is shift-enter to run a cell."
   ]
  },
  {
   "cell_type": "markdown",
   "metadata": {
    "slideshow": {
     "slide_type": "slide"
    },
    "tags": []
   },
   "source": [
    "## 7. Deep Learning Software - TensorFlow + PyTorch <a class=\"anchor\" id=\"seven\"></a>\n",
    "\n",
    "### Introduction to TensorFlow\n",
    "\n",
    "TensorFlow is an open-source machine learning framework developed by Google. It is widely used in the industry and academia for building and training deep learning models. TensorFlow's architecture allows for easy deployment of computation across a variety of platforms (CPUs, GPUs), enhancing its flexibility and scalability."
   ]
  },
  {
   "cell_type": "markdown",
   "metadata": {
    "slideshow": {
     "slide_type": "slide"
    },
    "tags": []
   },
   "source": [
    "#### What Does TensorFlow Do?\n",
    "\n",
    "TensorFlow allows users to create sophisticated deep learning models that can engage in a variety of tasks such as:\n",
    "- **Handwritten Digit Classification**: Automatically identifying numbers written by hand.\n",
    "- **Image Recognition**: Identifying and classifying objects within images.\n",
    "- **Word Embeddings**: Transforming words into numerical vectors that represent their semantic meanings.\n",
    "- **Natural Language Processing (NLP)**: Enabling machines to understand and interpret human language.\n",
    "\n",
    "TensorFlow's computational graph approach allows for intuitive design of complex neural networks, while its execution efficiency on different types of hardware makes it a versatile tool for machine learning."
   ]
  },
  {
   "cell_type": "markdown",
   "metadata": {
    "slideshow": {
     "slide_type": "slide"
    },
    "tags": []
   },
   "source": [
    "### Requirements for Installing TensorFlow on Mac\n",
    "\n",
    "To install TensorFlow on a Mac, particularly one with Apple silicon (M1, M2 chips) or AMD GPUs, ensure your system meets the following requirements:\n",
    "- **Mac Computers**: Apple silicon or AMD GPUs.\n",
    "- **macOS Version**: 12.0 or later.\n",
    "- **Python Version**: 3.8 or later.\n",
    "- **Xcode Command-Line Tools**: Installed using the command:\n",
    "  ```bash\n",
    "  xcode-select --install\n"
   ]
  },
  {
   "cell_type": "markdown",
   "metadata": {
    "slideshow": {
     "slide_type": "slide"
    },
    "tags": []
   },
   "source": [
    "### Installing TensorFlow on macOS\n",
    "\n",
    "TensorFlow can take advantage of Apple's Metal API to significantly accelerate training on Mac GPUs through the tensorflow-metal PluggableDevice. Follow these steps to install TensorFlow and tensorflow-metal:\n",
    "\n",
    "#### Install Base TensorFlow:\n",
    "For TensorFlow version 2.13 or later, use Mamba for a faster installation:\n",
    "\n",
    "    mamba install tensorflow"
   ]
  },
  {
   "cell_type": "markdown",
   "metadata": {
    "slideshow": {
     "slide_type": "slide"
    },
    "tags": []
   },
   "source": [
    "### Verifying TensorFlow Installation\n",
    "\n",
    "After installation, it's good practice to verify that TensorFlow is working correctly. You can do this with a simple Python script:\n",
    "\n",
    "    import tensorflow as tf\n",
    "    print(\"TensorFlow version:\", tf.__version__)\n",
    "    print(\"Num GPUs Available: \", len(tf.config.list_physical_devices('GPU')))\n",
    "\n",
    "This script checks the TensorFlow version and how many GPUs are available to TensorFlow, indicating whether the tensorflow-metal plugin is functioning correctly."
   ]
  },
  {
   "cell_type": "markdown",
   "metadata": {
    "slideshow": {
     "slide_type": "slide"
    },
    "tags": []
   },
   "source": [
    "### Introduction to PyTorch\n",
    "\n",
    "PyTorch is an open-source machine learning framework that powers a range of applications that involve deep learning, such as image recognition and natural language processing. Developed by Facebook AI Research and other contributors, PyTorch is notable for its ease of use, flexibility, and efficient computational graph dynamics. It is written in Python and features a user-friendly front end with a robust, GPU-accelerated backend, making it a preferred tool for researchers and developers for rapid prototyping and development of deep learning models."
   ]
  },
  {
   "cell_type": "markdown",
   "metadata": {
    "slideshow": {
     "slide_type": "slide"
    },
    "tags": []
   },
   "source": [
    "### Why Use PyTorch?\n",
    "\n",
    "- **Dynamic Computation Graphs**: PyTorch allows for modifications to the computation graph on the fly with its reverse-mode auto-differentiation feature. This is especially useful for dynamic model adjustments during runtime.\n",
    "- **Intuitive Interface**: Offers an intuitive interface that helps in building and training deep learning models with ease, thanks to its straightforward syntax and processing capabilities.\n",
    "- **Strong GPU Support**: Provides extensive support for GPU acceleration, enabling efficient and fast processing necessary for training complex models involving large datasets."
   ]
  },
  {
   "cell_type": "markdown",
   "metadata": {
    "slideshow": {
     "slide_type": "slide"
    },
    "tags": []
   },
   "source": [
    "### Installation Prerequisites\n",
    "\n",
    "- **macOS Version**: Supported on macOS 10.15 (Catalina) or above.\n",
    "- **Python**: Python 3.8 to 3.11 is recommended for compatibility. Python can be installed via Anaconda, Homebrew, or directly from the Python website."
   ]
  },
  {
   "cell_type": "markdown",
   "metadata": {
    "slideshow": {
     "slide_type": "skip"
    },
    "tags": []
   },
   "source": [
    "#### Note on Python Version Support\n",
    "In future PyTorch releases, support for Python 3.8 will be deprecated."
   ]
  },
  {
   "cell_type": "markdown",
   "metadata": {
    "slideshow": {
     "slide_type": "slide"
    },
    "tags": []
   },
   "source": [
    "### Installing PyTorch on macOS\n",
    "\n",
    "PyTorch installation can be performed using Anaconda or pip. Anaconda is recommended as it manages dependencies more comprehensively.\n",
    "\n",
    "1. **Install PyTorch with Mamba**:\n",
    "   Use Mamba to install PyTorch and torchvision from the PyTorch channel:\n",
    "\n",
    "       mamba install pytorch torchvision -c pytorch"
   ]
  },
  {
   "cell_type": "markdown",
   "metadata": {
    "slideshow": {
     "slide_type": "slide"
    },
    "tags": []
   },
   "source": [
    "### Verifying PyTorch Installation\n",
    "\n",
    "To verify that PyTorch has been installed correctly, run the following Python code to check the functionality by creating a randomly initialized tensor:\n",
    "\n",
    "    import torch\n",
    "    x = torch.rand(5, 3)\n",
    "    print(x)\n",
    "\n",
    "The output should display a 5x3 matrix with random values, confirming that PyTorch is functioning properly on your system."
   ]
  },
  {
   "cell_type": "markdown",
   "metadata": {
    "slideshow": {
     "slide_type": "slide"
    },
    "tags": []
   },
   "source": [
    "### Additional Tool: PyTorchViz\n",
    "\n",
    "PyTorchViz is a small package that helps in creating visualizations of PyTorch execution graphs and traces, which can be helpful for debugging and understanding model architectures.\n",
    "\n",
    "#### Installation\n",
    "\n",
    "    pip install torchviz"
   ]
  },
  {
   "cell_type": "markdown",
   "metadata": {
    "slideshow": {
     "slide_type": "slide"
    },
    "tags": []
   },
   "source": [
    "## 8. Review of Python Basics  <a class=\"anchor\" id=\"eight\"></a>\n",
    "\n",
    "To start with Python uses the following [numerical data types and operations](https://docs.python.org/2/library/stdtypes.html#boolean-operations-and-or-not)\n",
    "\n",
    "We will encounter three main types of collections of data:\n",
    "\n",
    "    Lists: a mutable array of data\n",
    "    Tuples: ordered, immutable list\n",
    "    Dictionaries: keyword/value lookup\n",
    "\n",
    "It is worth noting that python begins indexing at 0 and uses [row-major order](https://en.wikipedia.org/wiki/Row-major_order), which means that pairs of values are written as (y,x) instead of (x,y).  This actually makes sense when one is dealing with tables of data.\n",
    "\n",
    "\n",
    "Tuple\n",
    "\n",
    "    its most notable property is that it is immutable – after being defined, it cannot be changed\n",
    "    denoted by parentheses, e.g., x=(5.0,7.0,9.0,11.0)\n",
    "    to index, use square brackets, e.g., print(x[0])\n",
    "    can get part of one using :, e.g., try print(x[2:]) etc.\n",
    "\n",
    "List\n",
    "\n",
    "    in contrast to a tuple, it can be reassigned\n",
    "    denoted with brackets, e.g,. y=[5.0,7.0,9.0,11.0]\n",
    "    to index, also use square brackets, e.g., print(x[0])\n",
    "    can get part of one using :, e.g., try print(y[2:]) etc.\n",
    "\n",
    "Dictionary\n",
    "\n",
    "    assigns a value to a key, for example z={'a':2,'b':4,'c':6}, where a,b,c are the keywords.\n",
    "    the dictionary is indexed by the keyword, e.g., print(z['a'])\n",
    "    they can be quite complicated.\n",
    "    \n",
    "Here is a lot more on data structures: [https://docs.python.org/2/tutorial/datastructures.html](https://docs.python.org/2/tutorial/datastructures.html)."
   ]
  },
  {
   "cell_type": "markdown",
   "metadata": {
    "slideshow": {
     "slide_type": "slide"
    },
    "tags": []
   },
   "source": [
    "### Methods and Attributes\n",
    "\n",
    "Each type of data structure has associated “methods”. A method is like a little built-in function that can be run on a data structure.\n",
    "\n",
    "For example, open a new cell (or in a python terminal window) and do the following:\n",
    "\n",
    "```python\n",
    "v=[27.0,35.0,101.0,57.0]\n",
    "print(v)\n",
    "v.sort()\n",
    "print(v)\n",
    "```\n",
    "\n",
    "So v has now been replaced with the sorted v.\n",
    "\n",
    "The parentheses indicate that this is a \"method\", which is something that can (but doesn't have to) take *arguments*.  An \"attribute\" on the other hand is just a property.  E.g., if you have an object called `shape` and shape contains information like `area`, `length`, `width`, etc., then you access those values as\n",
    "\n",
    "```python\n",
    "print(shape.area)\n",
    "```\n",
    "\n",
    "Basic mathematical operations that can be applied to your data are found here: [https://docs.python.org/2/library/math.html](https://docs.python.org/2/library/math.html).\n",
    "\n",
    "OK, hopefully that is a refresher for everyone, so let's get going with more complicated stuff.\n",
    "If you need more of a refresher than that, see the links above."
   ]
  },
  {
   "cell_type": "markdown",
   "metadata": {
    "slideshow": {
     "slide_type": "slide"
    },
    "tags": []
   },
   "source": [
    "## Installing Python Data Science Packages with Mamba\n",
    "\n",
    "Mamba is a fast and efficient package manager that simplifies the process of managing Python packages. In this section, we will use Mamba to install some of the most commonly used data science and machine learning packages: NumPy, Pandas, Matplotlib, SciPy, and astroML.\n",
    "\n",
    "### Installing Packages\n",
    "\n",
    "To install NumPy, Pandas, Matplotlib, SciPy, and astroML, run the following command in your terminal:\n",
    "\n",
    "    mamba install numpy pandas matplotlib scipy astroml\n"
   ]
  },
  {
   "cell_type": "markdown",
   "metadata": {
    "slideshow": {
     "slide_type": "slide"
    },
    "tags": []
   },
   "source": [
    "### Verify Installation\n",
    "\n",
    "After installing the packages, you can verify that they are correctly installed by importing them in a Python script or Jupyter notebook:\n",
    "\n",
    "    import numpy as np\n",
    "    import pandas as pd\n",
    "    import matplotlib.pyplot as plt\n",
    "    import scipy\n",
    "    import astroML\n",
    "\n",
    "If no errors are raised, it means the packages have been successfully installed and are ready for use."
   ]
  },
  {
   "cell_type": "markdown",
   "metadata": {
    "slideshow": {
     "slide_type": "slide"
    },
    "tags": []
   },
   "source": [
    "### NumPy\n",
    "\n",
    "NumPy is short for Numerical Python. It is the foundational package for scientific computing in Python. It is a library which will allow us to work with data structures called **arrays** that are more efficient for storing amd manipulating data than other Python data structures (or C++ for that matter). \n",
    "\n",
    "For example, cut and paste this into a new cell, then type shift-enter to run it:\n",
    "\n",
    "```python\n",
    "import numpy as np\n",
    "xlist = [1,2,3]\n",
    "xarray = np.array(xlist)\n",
    "twice_xarray = 2*xarray\n",
    "print(twice_xarray)\n",
    "```\n",
    "\n",
    "This is far better than creating a for loop over the entries in `xlist` or even something fancier like a \"list comprehension\"\n",
    "```python\n",
    "   twice_xlist = [2*x for x in xlist]\n",
    "   print(twice_xlist)\n",
    "```\n",
    "Note the lack of commas in the array as compared to the list.\n",
    "\n",
    "To load the Numpy library type:  \n",
    "\n",
    "    In [ ]: import numpy as np\n",
    "    \n",
    "In fact, just plan on starting **every** notebook with this!    "
   ]
  },
  {
   "cell_type": "markdown",
   "metadata": {
    "slideshow": {
     "slide_type": "slide"
    },
    "tags": []
   },
   "source": [
    "The basic unit for numpy is an [ndarray](https://docs.scipy.org/doc/numpy/reference/arrays.ndarray.html).  See the link for examples of how to define, index, slice, etc. the array.\n",
    "\n",
    "There are quite a few **methods** associated with numpy arrays.  Some useful ones include:\n",
    "\n",
    "|Method |\tProperty|\n",
    "|-------|-----------|\n",
    "|np.zeros(5,float) |\tyields a 5-element array of zeros of type float |\n",
    "|a=np.empty(4) |\tyields a 4-element empty array |\n",
    "|a.fill(5.5) |\tfills that array with 5.5 for all elements |\n",
    "|np.arange(5) |\tyields an integer array of length 5 with increasing values | \n",
    "|b=np.random.normal(10,3,5) |\tyields a 5 element array of normally distributed numbers with mean 10 and variance 3 |\n",
    "|mask=b > 9 |\tcreates a boolean array determing which numbers are greater than 9 |\n",
    "|print(b[mask]) |\tprints the ones with values > 9 |\n",
    "|b[mask]=0 | sets the ones > 9 to zero |\n",
    "\n",
    "Arrays can be multidimensional, e.g., ```c=np.random.normal(10,3,(2,4))```, creates a 2 x 4 array with normally distributed numbers with mean 10 and variance 3.\n",
    "\n",
    "More methods for multidimensional arrays:\n",
    "\n",
    "|Method |\tProperty|\n",
    "|-------|-----------|\n",
    "|d=c[0,:] |\tgrabs the first (0th) row of c. |\n",
    "|d=c[1,:] |\tgrabs the second (1st) row of c. |\n",
    "|d=c[:,0] |\tgrabs the first column of c. |\n",
    "|c.dtype |\tdata type |\n",
    "|c.size |\ttotal number of elements |\n",
    "|c.ndim |\tnumber of dimensions |\n",
    "|c.shape |\tshape or dimensionality |\n",
    "|c.nbytes |\tmemory used (bytes) |\n",
    "|c.min() |\tgives the minimum of c |\n",
    "|c.max() |\tgives the maximum of c |\n",
    "|c.sum() |\tsum of all elements |\n",
    "|c.mean() |\tmean of all elements |\n",
    "|c.std() |\tstandard deviation of all elements |\n",
    "|c.sum(axis=0) | will present sum along the 0th axis (column direction). The result will have reduced dimensionality |\n",
    "\n",
    "You can also operate with arrays, for example, adding them together, multiplying them, multiplying or adding a constant. There are, however, [**broadcasting**](https://numpy.org/doc/stable/user/basics.broadcasting.html) rules so that you need to make sure you know what you are doing when dealing with arrays of different sizes."
   ]
  },
  {
   "cell_type": "markdown",
   "metadata": {
    "slideshow": {
     "slide_type": "slide"
    },
    "tags": []
   },
   "source": [
    "### SciPy\n",
    "\n",
    "\n",
    "[SciPy](http://docs.scipy.org/doc/scipy/reference/) is an \"open-source software for mathematics, science, and engineering\".  We 'import' it the same way that we import numpy:\n",
    "\n",
    "\n",
    "    In [ ]: import scipy as sp\n",
    "\n",
    "\n",
    "SciPy is a suite of tools for data analysis including integration, statistical functions, interpolation.  It is built on top of Numpy. Where Numpy is intended for array *manipulation*, Scipy is intended for *analysis*. This is where the useful tools that are built into IDL (such as tsum, interpol, etc) will be.  It may be worth looking at the users guide to get an idea of the kinds of functions are available.   N.B.  For some packages you need to import more than just the main scipy package.  So, for example to see what is available in the scipy.integrate package, do the following:\n",
    "\n",
    "```\n",
    "import scipy.integrate\n",
    "scipy.integrate?\n",
    "```\n",
    "\n"
   ]
  },
  {
   "cell_type": "markdown",
   "metadata": {
    "slideshow": {
     "slide_type": "slide"
    },
    "tags": []
   },
   "source": [
    "### Pandas\n",
    "\n",
    "[Pandas](https://pandas.pydata.org/) is an \"is a fast, powerful, flexible and easy to use open source data analysis and manipulation tool,\n",
    "built on top of the Python programming language.\". \n",
    "\n",
    "We 'import' it the same way that we import numpy:\n",
    "\n",
    "\n",
    "    In [ ]: import pandas as pd\n",
    "\n",
    "Pandas is a library designed with manipulating numerical tables and time series in mind and is a very useful tool for data science.   We will be making use of Pandas [DataFrames](https://pandas.pydata.org/pandas-docs/stable/reference/api/pandas.DataFrame.html) in the course of this class. You can get some experience using Pandas either with [DataCamp](https://www.datacamp.com/community/tutorials/pandas-tutorial-dataframe-python) or with [Chapter 3 of the Python Data Science Handbook by Jake VanderPlas](https://jakevdp.github.io/PythonDataScienceHandbook/03.00-introduction-to-pandas.html).\n",
    "\n",
    "```\n",
    "import pandas as pd\n",
    "pd?\n",
    "```"
   ]
  },
  {
   "cell_type": "markdown",
   "metadata": {
    "slideshow": {
     "slide_type": "slide"
    },
    "tags": []
   },
   "source": [
    "### Scikit-learn\n",
    "\n",
    "The [Scikit-learn library](http://scikit-learn.org/) forms the core of computing tools that we will use for this class.  It probably needs its own introductory tutorial as both the input and output may not be quite what you would have expected.    You might want to spend some time going through their quick start guide, user's guide and tutorials here: [http://scikit-learn.org/stable/documentation.html](http://scikit-learn.org/stable/documentation.html).\n"
   ]
  },
  {
   "cell_type": "markdown",
   "metadata": {
    "slideshow": {
     "slide_type": "slide"
    },
    "tags": []
   },
   "source": [
    "### Matplotlib Example\n",
    "\n",
    "It is generally useful to be able to visualize your data.  We will do that using the \n",
    "[matplotlib](http://matplotlib.org/) library.   Most of you should be familiar with it already, but we will likely be making some plots that are more complex than you are used to.  One nice resource is this [thumbnail gallery](http://matplotlib.org/gallery.html) which you can use to figure out how to make a new plot.\n",
    "\n",
    "Let's make sure that everything is working by making a simple plot"
   ]
  },
  {
   "cell_type": "code",
   "execution_count": null,
   "metadata": {
    "slideshow": {
     "slide_type": "slide"
    },
    "tags": []
   },
   "outputs": [],
   "source": [
    "# magic command to make the figure pop up below instead of in a new window\n",
    "%matplotlib inline \n",
    "\n",
    "# invoke pyplot in matplotlib, give it an alias\n",
    "import matplotlib.pyplot as plt  \n",
    "import numpy as np\n",
    "\n",
    "x = np.linspace(0, 3*np.pi, 300)\n",
    "y = np.sin(x)\n",
    "plt.plot(x, y)\n",
    "y2 = np.sin(x**2)\n",
    "plt.plot(x, y, label=r'$\\sin(x)$')\n",
    "plt.plot(x, y2, label=r'$\\sin(x^2)$')\n",
    "plt.title('Some functions')\n",
    "plt.xlabel('x')\n",
    "plt.ylabel('y')\n",
    "plt.grid()\n",
    "plt.legend();"
   ]
  },
  {
   "cell_type": "markdown",
   "metadata": {
    "slideshow": {
     "slide_type": "slide"
    },
    "tags": []
   },
   "source": [
    "You can change both the [marker/line styles](http://matplotlib.org/examples/lines_bars_and_markers/) and [colors](http://matplotlib.org/api/colors_api.html), but I highly recommend the use of the colors in the [palettable library](https://jiffyclub.github.io/palettable/), where you can see the colors at [http://colorbrewer2.org/](http://colorbrewer2.org/).\n",
    "\n",
    "Try making some changes to the code above and see what happens."
   ]
  },
  {
   "cell_type": "markdown",
   "metadata": {
    "slideshow": {
     "slide_type": "slide"
    },
    "tags": []
   },
   "source": [
    "### AstroML Example\n",
    "\n",
    "Now let's download and run one of the astroML examples inside the Jupyter notebook."
   ]
  },
  {
   "cell_type": "code",
   "execution_count": null,
   "metadata": {
    "slideshow": {
     "slide_type": "slide"
    },
    "tags": []
   },
   "outputs": [],
   "source": [
    "! curl -O https://raw.githubusercontent.com/astroML/astroML/master/examples/datasets/plot_SDSS_SSPP.py"
   ]
  },
  {
   "cell_type": "code",
   "execution_count": null,
   "metadata": {
    "slideshow": {
     "slide_type": "slide"
    },
    "tags": []
   },
   "outputs": [],
   "source": [
    "%matplotlib inline\n",
    "%run ./plot_SDSS_SSPP.py"
   ]
  },
  {
   "cell_type": "markdown",
   "metadata": {
    "slideshow": {
     "slide_type": "slide"
    },
    "tags": []
   },
   "source": [
    "## 9. Git Example  <a class=\"anchor\" id=\"nine\"></a>\n",
    "\n",
    "Lastly, let's practice some git!\n",
    "\n",
    "1. create a new repository on github, with a README file. Name it `PHYS_440_540_test`.\n",
    "\n",
    "2. clone it using:\n",
    "```bash\n",
    "cd ~/git\n",
    "git clone https://github.com/YOURUSERNAME/PHYS_440_540_test\n",
    "```\n",
    "3. start Jupyter in the cloned directory\n",
    "```\n",
    "cd PHYS_440_540_test\n",
    "jupyter notebook &\n",
    "```\n",
    "4. create a new notebook. Name it `hello.ipynb` (with File:Rename), and add a cell with the following piece of code:\n",
    "```python\n",
    "print(\"Hello World!\")\n",
    "```\n",
    "5. add the notebook to your git repository and commit by running (in the terminal window) the following:\n",
    "```bash\n",
    "git add hello.ipynb\n",
    "git commit -m \"Added hello.ipynb to repository.\"\n",
    "```\n",
    "6. see what happened:\n",
    "```bash\n",
    "git log\n",
    "```\n",
    "7. make another change in the Jupyter notebook. For example, add another cell (\"+\" icon on the toolbar) with the following:\n",
    "```python\n",
    "x = 2+2\n",
    "print(x)\n",
    "```\n",
    "8. see what happened\n",
    "```bash\n",
    "git status\n",
    "```\n",
    "9. commit changed files\n",
    "```\n",
    "git commit -am \"Updated hello.ipynb with complex mathematics.\"\n",
    "```\n",
    "10. Push the Changes to GitHub Using Personal Access Token\n",
    "\n",
    "GitHub no longer supports password authentication for Git operations. Instead, you need to use a personal access token (PAT).\n",
    "\n",
    "**Step 1: Generate a Personal Access Token**\n",
    "\n",
    "    1. Go to GitHub and log in.\n",
    "    2. Navigate to Settings > Developer settings > Personal access tokens > Tokens (classic).\n",
    "    3. Click Generate new token.\n",
    "    4. Name the token (e.g., \"Git for PHYS_440_540_test\").\n",
    "    5. Set an expiration date or choose \"No expiration\".\n",
    "    6. Under Select Scopes, check repo for full control over your repositories.\n",
    "    7. Generate the token and copy it immediately (you won't be able to see it again).\n",
    "\n",
    "**Step 2: Push the Changes Using the Token**\n",
    "\n",
    "When you push changes to GitHub, you will use your GitHub username and the personal access token as your \"password.\"\n",
    "\n",
    "    Push the changes to GitHub:\n",
    "\n",
    "        git push\n",
    "\n",
    "When prompted for your username, enter your GitHub username:\n",
    "\n",
    "    Username for 'https://github.com': YOURUSERNAME\n",
    "\n",
    "When prompted for your password, paste the personal access token instead of your password:\n",
    "\n",
    "    Password for 'https://YOURUSERNAME@github.com': <paste your token here>\n",
    "\n",
    "11. Check the Changes on GitHub\n",
    "\n",
    "    Open your browser and go to the GitHub repository page (e.g., https://github.com/YOURUSERNAME/PHYS_440_540_test).\n",
    "    You should see the hello.ipynb file and the commits you made."
   ]
  },
  {
   "cell_type": "markdown",
   "metadata": {
    "slideshow": {
     "slide_type": "slide"
    },
    "tags": []
   },
   "source": [
    "## Class Participation <a class=\"anchor\" id=\"ten\"></a>\n",
    "\n",
    "To get full credit for class participation, you will be submitting this notebook (and that for every other lecture) with all of the cells filled in (each lecture will have a number of cells with blanks to provide a hands-on aspect to the course).\n",
    "\n",
    "The instructions for doing this are the first assignment for [Homework 1](https://github.com/gtrichards/PHYS_440_540/blob/master/homeworks/PHYS_440_540_F24_HW1.ipynb), which you can also find in the /homeworks folder in notebook PHYS_440_540_F22_HW1.ipynb.  The other homeworks will be similarly named and in the same place."
   ]
  },
  {
   "cell_type": "markdown",
   "metadata": {
    "slideshow": {
     "slide_type": ""
    },
    "tags": []
   },
   "source": [
    "## Summary\n",
    "\n",
    "At this point, all of you should have:\n",
    "* A `GitHub` account and a basic understanding of `git`\n",
    "* Installed the Anaconda Python Distribution with Python 3\n",
    "* Installed AstroML\n",
    "* The ability to create and run Jupyter notebooks\n",
    "* The ability to submit completed notebooks for class participation credit (once you have done Homework 1).\n",
    "\n",
    "Now we're ready to do some astro-statistics!"
   ]
  }
 ],
 "metadata": {
  "anaconda-cloud": {},
  "celltoolbar": "Slideshow",
  "kernelspec": {
   "display_name": "Python 3 (ipykernel)",
   "language": "python",
   "name": "python3"
  },
  "language_info": {
   "codemirror_mode": {
    "name": "ipython",
    "version": 3
   },
   "file_extension": ".py",
   "mimetype": "text/x-python",
   "name": "python",
   "nbconvert_exporter": "python",
   "pygments_lexer": "ipython3",
   "version": "3.12.5"
  }
 },
 "nbformat": 4,
 "nbformat_minor": 4
}
